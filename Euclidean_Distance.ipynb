{
  "nbformat": 4,
  "nbformat_minor": 0,
  "metadata": {
    "colab": {
      "name": "Euclidean_Distance.ipynb",
      "provenance": [],
      "collapsed_sections": [],
      "authorship_tag": "ABX9TyMJe6dA2zcXNa2QYqqMkz6E"
    },
    "kernelspec": {
      "name": "python3",
      "display_name": "Python 3"
    },
    "language_info": {
      "name": "python"
    }
  },
  "cells": [
    {
      "cell_type": "code",
      "execution_count": 11,
      "metadata": {
        "colab": {
          "base_uri": "https://localhost:8080/"
        },
        "id": "ZgYGI-kQzppe",
        "outputId": "5c869574-601d-45c5-95c5-d201db71812d"
      },
      "outputs": [
        {
          "output_type": "stream",
          "name": "stdout",
          "text": [
            "value comparison with object two is    9.089004345911603\n",
            "value comparison with object three is 10.278132126023678\n",
            "value comparison with object four is  11.610770861575041\n",
            "value comparison with object five is  15.036289435894748\n"
          ]
        }
      ],
      "source": [
        "from math import sqrt\n",
        "\n",
        "# first object self data\n",
        "nim1 = 362055401191\n",
        "age1 = 19\n",
        "distance1 = 13.8\n",
        "height1 = 178\n",
        "\n",
        "# second object self data\n",
        "nim2 = 362055401188\n",
        "age2 = 19\n",
        "distance2 = 10.7\n",
        "height2 = 170\n",
        "\n",
        "# third object self data\n",
        "nim3 = 362055401190\n",
        "age3 = 21\n",
        "distance3 = 14.6\n",
        "height3 = 168\n",
        "\n",
        "# fourth object self data\n",
        "nim4 = 362055401200\n",
        "age4 = 20\n",
        "distance4 = 9.7\n",
        "height4 = 172\n",
        "\n",
        "# fifth object self data\n",
        "nim5 = 362055401203\n",
        "age5 = 20\n",
        "distance5 = 14.1\n",
        "height5 = 169\n",
        "\n",
        "# calculate the comparison of objects one to two\n",
        "Euclidean_Distance1 = sqrt((nim1 - nim2) ** 2 + (age1 - age2) ** 2 + (distance1 - distance2) ** 2 + (height1 - height2) ** 2)\n",
        "print(f\"value comparison with object two is    {Euclidean_Distance1}\")\n",
        "\n",
        "# calculate the ratio of objects one to three\n",
        "Euclidean_Distance2 = sqrt((nim1 - nim3) ** 2 + (age1 - age3) ** 2 + (distance1 - distance3) ** 2 + (height1 - height3) ** 2)\n",
        "print(f\"value comparison with object three is {Euclidean_Distance2}\")\n",
        "\n",
        "# calculate the comparison of objects one with the fourth\n",
        "Euclidean_Distance3 = sqrt((nim1 - nim4) ** 2 + (age1 - age4) ** 2 + (distance1 - distance4) ** 2 + (height1 - height4) ** 2)\n",
        "print(f\"value comparison with object four is  {Euclidean_Distance3}\")\n",
        "\n",
        "# calculate the comparison of objects one with the fifth\n",
        "Euclidean_Distance4 = sqrt((nim1 - nim5) ** 2 + (age1 - age5) ** 2 + (distance1 - distance5) ** 2 + (height1 - height5) ** 2)\n",
        "print(f\"value comparison with object five is  {Euclidean_Distance4}\")"
      ]
    }
  ]
}